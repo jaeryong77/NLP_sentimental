{
  "nbformat": 4,
  "nbformat_minor": 0,
  "metadata": {
    "accelerator": "GPU",
    "colab": {
      "name": "[BASE] 한국어감정분석.ipynb",
      "provenance": [],
      "collapsed_sections": [],
      "authorship_tag": "ABX9TyM3OXwYnuiw9v1GjSqkweJu",
      "include_colab_link": true
    },
    "kernelspec": {
      "display_name": "Python 3",
      "name": "python3"
    }
  },
  "cells": [
    {
      "cell_type": "markdown",
      "metadata": {
        "id": "view-in-github",
        "colab_type": "text"
      },
      "source": [
        "<a href=\"https://colab.research.google.com/github/jaeryong77/NLP_sentimental/blob/main/%5BBASE%5D_%ED%95%9C%EA%B5%AD%EC%96%B4%EA%B0%90%EC%A0%95%EB%B6%84%EC%84%9D.ipynb\" target=\"_parent\"><img src=\"https://colab.research.google.com/assets/colab-badge.svg\" alt=\"Open In Colab\"/></a>"
      ]
    },
    {
      "cell_type": "code",
      "metadata": {
        "colab": {
          "base_uri": "https://localhost:8080/"
        },
        "id": "t6sK6CvrxZvD",
        "outputId": "7102dd46-c8ba-4eb7-996f-a7ea455a0859"
      },
      "source": [
        "# 구글 드라이브 연결\r\n",
        "from google.colab import drive\r\n",
        "drive.mount('/content/gdrive')"
      ],
      "execution_count": 2,
      "outputs": [
        {
          "output_type": "stream",
          "text": [
            "Drive already mounted at /content/gdrive; to attempt to forcibly remount, call drive.mount(\"/content/gdrive\", force_remount=True).\n"
          ],
          "name": "stdout"
        }
      ]
    },
    {
      "cell_type": "code",
      "metadata": {
        "colab": {
          "base_uri": "https://localhost:8080/"
        },
        "id": "MBQUUxTAwTVK",
        "outputId": "b025e95a-1d18-4079-ec00-13439a77cc47"
      },
      "source": [
        "!git clone https://github.com/SKTBrain/KoBERT.git"
      ],
      "execution_count": 27,
      "outputs": [
        {
          "output_type": "stream",
          "text": [
            "fatal: destination path 'KoBERT' already exists and is not an empty directory.\n"
          ],
          "name": "stdout"
        }
      ]
    },
    {
      "cell_type": "code",
      "metadata": {
        "id": "cVvmvBwE1LZt"
      },
      "source": [
        "# transformers 에러 방지를 위해 version==3.0.0 으로 변경\r\n",
        "requirements= open('/content/KoBERT/requirements.txt').read()\r\n",
        "requirements\r\n",
        "list_r = requirements.split('\\n')\r\n",
        "\r\n",
        "f = open('/content/KoBERT/requirements.txt')\r\n",
        "\r\n",
        "f = open('/content/KoBERT/requirements_new.txt', 'w')\r\n",
        "\r\n",
        "for items in list_r:\r\n",
        "  if items[:5] == 'trans':\r\n",
        "    new_items = items.replace('>= 3.5.0', '== 3.0.0')\r\n",
        "    f.write(new_items)\r\n",
        "  else:\r\n",
        "    f.write(items) \r\n",
        "  f.write('\\n') \r\n",
        "f.close()"
      ],
      "execution_count": 28,
      "outputs": []
    },
    {
      "cell_type": "code",
      "metadata": {
        "id": "9_t9iXqVwdy8"
      },
      "source": [
        "#사전 필요 라이브러리 \r\n",
        "!pip install -r KoBERT/requirements_new.txt"
      ],
      "execution_count": null,
      "outputs": []
    },
    {
      "cell_type": "code",
      "metadata": {
        "id": "g9A50tGj0LoG"
      },
      "source": [
        "!pip install KoBERT/"
      ],
      "execution_count": null,
      "outputs": []
    },
    {
      "cell_type": "code",
      "metadata": {
        "colab": {
          "base_uri": "https://localhost:8080/"
        },
        "id": "Hva0txtdxicJ",
        "outputId": "6f6cdc19-c032-4104-a127-cb17a43f201c"
      },
      "source": [
        "import torch\r\n",
        "from torch import nn\r\n",
        "import torch.nn.functional as F\r\n",
        "import torch.optim as optim\r\n",
        "from torch.utils.data import Dataset, DataLoader\r\n",
        "import gluonnlp as nlp\r\n",
        "import numpy as np\r\n",
        "from tqdm import tqdm, tqdm_notebook\r\n",
        "\r\n",
        "from kobert.utils import get_tokenizer\r\n",
        "from kobert.pytorch_kobert import get_pytorch_kobert_model\r\n",
        "from transformers import AdamW\r\n",
        "from transformers.optimization import get_cosine_schedule_with_warmup\r\n",
        "\r\n",
        "##GPU 사용 시\r\n",
        "device = torch.device(\"cuda:0\")\r\n",
        "\r\n",
        "bertmodel, vocab = get_pytorch_kobert_model()"
      ],
      "execution_count": 31,
      "outputs": [
        {
          "output_type": "stream",
          "text": [
            "using cached model\n",
            "using cached model\n"
          ],
          "name": "stdout"
        }
      ]
    },
    {
      "cell_type": "code",
      "metadata": {
        "id": "hhWHpuF_yKpQ"
      },
      "source": [
        "# 데이터를 읽어온다\r\n",
        "dataset_train = nlp.data.TSVDataset('/content/gdrive/My Drive/Colab Notebooks/Naver_kor/ratings_train.txt', field_indices=[1,2], num_discard_samples=1)\r\n",
        "dataset_test = nlp.data.TSVDataset('/content/gdrive/My Drive/Colab Notebooks/Naver_kor/ratings_test.txt', field_indices=[1,2], num_discard_samples=1)"
      ],
      "execution_count": 9,
      "outputs": []
    },
    {
      "cell_type": "code",
      "metadata": {
        "colab": {
          "base_uri": "https://localhost:8080/"
        },
        "id": "s5o4QvYb2uYt",
        "outputId": "3fb3fdff-b8c6-45d2-ae67-6e59f8b30e28"
      },
      "source": [
        "tokenizer = get_tokenizer()\r\n",
        "tok = nlp.data.BERTSPTokenizer(tokenizer, vocab, lower=False)"
      ],
      "execution_count": 14,
      "outputs": [
        {
          "output_type": "stream",
          "text": [
            "using cached model\n"
          ],
          "name": "stdout"
        }
      ]
    },
    {
      "cell_type": "code",
      "metadata": {
        "id": "_J9U97Qc20F-"
      },
      "source": [
        "class BERTDataset(Dataset):\r\n",
        "    def __init__(self, dataset, sent_idx, label_idx, bert_tokenizer, max_len,\r\n",
        "                 pad, pair):\r\n",
        "        transform = nlp.data.BERTSentenceTransform(\r\n",
        "            bert_tokenizer, max_seq_length=max_len, pad=pad, pair=pair)\r\n",
        "\r\n",
        "        self.sentences = [transform([i[sent_idx]]) for i in dataset]\r\n",
        "        self.labels = [np.int32(i[label_idx]) for i in dataset]\r\n",
        "\r\n",
        "    def __getitem__(self, i):\r\n",
        "        return (self.sentences[i] + (self.labels[i], ))\r\n",
        "\r\n",
        "    def __len__(self):\r\n",
        "        return (len(self.labels))\r\n"
      ],
      "execution_count": 15,
      "outputs": []
    },
    {
      "cell_type": "code",
      "metadata": {
        "id": "ycu7VaCV211f"
      },
      "source": [
        "## Setting parameters\r\n",
        "max_len = 64\r\n",
        "batch_size = 64\r\n",
        "warmup_ratio = 0.1\r\n",
        "num_epochs = 3\r\n",
        "max_grad_norm = 1\r\n",
        "log_interval = 200\r\n",
        "learning_rate =  5e-5"
      ],
      "execution_count": 16,
      "outputs": []
    },
    {
      "cell_type": "code",
      "metadata": {
        "id": "17epiNqO23GC"
      },
      "source": [
        "data_train = BERTDataset(dataset_train, 0, 1, tok, max_len, True, False)\r\n",
        "data_test = BERTDataset(dataset_test, 0, 1, tok, max_len, True, False)\r\n",
        "# data_predict = BERTDataset(dataset_predict, 0, 1, tok, max_len, True, False)\r\n"
      ],
      "execution_count": 17,
      "outputs": []
    },
    {
      "cell_type": "code",
      "metadata": {
        "id": "sQRtfiyp-NpH"
      },
      "source": [
        "train_dataloader = torch.utils.data.DataLoader(data_train, batch_size=batch_size, num_workers=5)\r\n",
        "test_dataloader = torch.utils.data.DataLoader(data_test, batch_size=batch_size, num_workers=5)\r\n"
      ],
      "execution_count": 18,
      "outputs": []
    },
    {
      "cell_type": "code",
      "metadata": {
        "id": "JK4IdWwn-NxN"
      },
      "source": [
        "class BERTClassifier(nn.Module):\r\n",
        "    def __init__(self,\r\n",
        "                 bert,\r\n",
        "                 hidden_size = 768,\r\n",
        "                 num_classes=2,\r\n",
        "                 dr_rate=None,\r\n",
        "                 params=None):\r\n",
        "        super(BERTClassifier, self).__init__()\r\n",
        "        self.bert = bert\r\n",
        "        self.dr_rate = dr_rate\r\n",
        "                 \r\n",
        "        self.classifier = nn.Linear(hidden_size , num_classes)\r\n",
        "        if dr_rate:\r\n",
        "            self.dropout = nn.Dropout(p=dr_rate)\r\n",
        "    \r\n",
        "    def gen_attention_mask(self, token_ids, valid_length):\r\n",
        "        attention_mask = torch.zeros_like(token_ids)\r\n",
        "        for i, v in enumerate(valid_length):\r\n",
        "            attention_mask[i][:v] = 1\r\n",
        "        return attention_mask.float()\r\n",
        "\r\n",
        "    def forward(self, token_ids, valid_length, segment_ids):\r\n",
        "        attention_mask = self.gen_attention_mask(token_ids, valid_length)\r\n",
        "        \r\n",
        "        _, pooler = self.bert(input_ids = token_ids, token_type_ids = segment_ids.long(), attention_mask = attention_mask.float().to(token_ids.device))\r\n",
        "        if self.dr_rate:\r\n",
        "            out = self.dropout(pooler)\r\n",
        "        return self.classifier(out)"
      ],
      "execution_count": 19,
      "outputs": []
    },
    {
      "cell_type": "code",
      "metadata": {
        "id": "WWWAY-mA29bR"
      },
      "source": [
        "model = BERTClassifier(bertmodel,  dr_rate=0.5).to(device)"
      ],
      "execution_count": 20,
      "outputs": []
    },
    {
      "cell_type": "code",
      "metadata": {
        "id": "-Ke-QqNt2_K1"
      },
      "source": [
        "# Prepare optimizer and schedule (linear warmup and decay)\r\n",
        "no_decay = ['bias', 'LayerNorm.weight']\r\n",
        "optimizer_grouped_parameters = [\r\n",
        "    {'params': [p for n, p in model.named_parameters() if not any(nd in n for nd in no_decay)], 'weight_decay': 0.01},\r\n",
        "    {'params': [p for n, p in model.named_parameters() if any(nd in n for nd in no_decay)], 'weight_decay': 0.0}\r\n",
        "]\r\n",
        "\r\n",
        "optimizer = AdamW(optimizer_grouped_parameters, lr=learning_rate)\r\n",
        "loss_fn = nn.CrossEntropyLoss()\r\n",
        "\r\n",
        "t_total = len(train_dataloader) * num_epochs\r\n",
        "warmup_step = int(t_total * warmup_ratio)\r\n",
        "\r\n",
        "scheduler = get_cosine_schedule_with_warmup(optimizer, num_warmup_steps=warmup_step, num_training_steps=t_total)\r\n"
      ],
      "execution_count": 21,
      "outputs": []
    },
    {
      "cell_type": "code",
      "metadata": {
        "id": "FpbENkFM8D0Y"
      },
      "source": [
        "def calc_accuracy(X,Y):\r\n",
        "    max_vals, max_indices = torch.max(X, 1)\r\n",
        "    train_acc = (max_indices == Y).sum().data.cpu().numpy()/max_indices.size()[0]\r\n",
        "    return train_acc"
      ],
      "execution_count": 22,
      "outputs": []
    },
    {
      "cell_type": "code",
      "metadata": {
        "id": "6WtTQeSz3HTZ"
      },
      "source": [
        "for e in range(num_epochs):\r\n",
        "    train_acc = 0.0\r\n",
        "    test_acc = 0.0\r\n",
        "    model.train()\r\n",
        "    for batch_id, (token_ids, valid_length, segment_ids, label) in enumerate(tqdm_notebook(train_dataloader)):\r\n",
        "        optimizer.zero_grad()\r\n",
        "        token_ids = token_ids.long().to(device)\r\n",
        "        segment_ids = segment_ids.long().to(device)\r\n",
        "        valid_length= valid_length\r\n",
        "        label = label.long().to(device)\r\n",
        "        out = model(token_ids, valid_length, segment_ids)\r\n",
        "        loss = loss_fn(out, label)\r\n",
        "        loss.backward()\r\n",
        "        torch.nn.utils.clip_grad_norm_(model.parameters(), max_grad_norm)\r\n",
        "        optimizer.step()\r\n",
        "        scheduler.step()  # Update learning rate schedule\r\n",
        "        train_acc += calc_accuracy(out, label)\r\n",
        "        if batch_id % log_interval == 0:\r\n",
        "            print(\"epoch {} batch id {} loss {} train acc {}\".format(e+1, batch_id+1, loss.data.cpu().numpy(), train_acc / (batch_id+1)))\r\n",
        "    print(\"epoch {} train acc {}\".format(e+1, train_acc / (batch_id+1)))\r\n",
        "    model.eval()\r\n",
        "    for batch_id, (token_ids, valid_length, segment_ids, label) in enumerate(tqdm_notebook(test_dataloader)):\r\n",
        "        token_ids = token_ids.long().to(device)\r\n",
        "        segment_ids = segment_ids.long().to(device)\r\n",
        "        valid_length= valid_length\r\n",
        "        label = label.long().to(device)\r\n",
        "        out = model(token_ids, valid_length, segment_ids)\r\n",
        "        test_acc += calc_accuracy(out, label)\r\n",
        "    print(\"epoch {} test acc {}\".format(e+1, test_acc / (batch_id+1)))"
      ],
      "execution_count": null,
      "outputs": []
    },
    {
      "cell_type": "code",
      "metadata": {
        "id": "alelt79sG37D"
      },
      "source": [
        "# 예측 데이터를 불러온다 \r\n",
        "dataset_predict = nlp.data.TSVDataset('/content/gdrive/My Drive/Colab Notebooks/competition_file/ko_data.txt', field_indices=[1], num_discard_samples=1, encoding='cp949')\r\n",
        "\r\n",
        "# 데이터 Set 을 맞춰주기 위해 추가함\r\n",
        "for S in dataset_predict:\r\n",
        "  S.append('0')\r\n",
        "\r\n",
        "# 예측 데이터 \r\n",
        "data_predict = BERTDataset(dataset_predict, 0, 1, tok, max_len, True, False)\r\n",
        "predict_dataloader = torch.utils.data.DataLoader(data_predict, batch_size=batch_size, num_workers=5)"
      ],
      "execution_count": 25,
      "outputs": []
    },
    {
      "cell_type": "code",
      "metadata": {
        "id": "Cddr2X_LxsQU"
      },
      "source": [
        "result = []\r\n",
        "#model.eval 이 기본 모델임\r\n",
        "model.eval()\r\n",
        "for batch_id, (token_ids, valid_length, segment_ids, label) in enumerate(tqdm_notebook(predict_dataloader)):\r\n",
        "  token_ids = token_ids.long().to(device)\r\n",
        "  segment_ids = segment_ids.long().to(device)\r\n",
        "  valid_length= valid_length\r\n",
        "  label = label.long().to(device)\r\n",
        "  out = model(token_ids, valid_length, segment_ids)\r\n",
        "  max_vals, max_indices = torch.max(out, 1)\r\n",
        "  result += max_indices.tolist()"
      ],
      "execution_count": null,
      "outputs": []
    },
    {
      "cell_type": "code",
      "metadata": {
        "id": "-91w3Vm29DFf"
      },
      "source": [
        "#result Set 생성\r\n",
        "result_data = pd.read_csv('/content/gdrive/My Drive/Colab Notebooks/competition_file/ko_data.csv',encoding='cp949')\r\n",
        "del result_data['Sentence']\r\n",
        "result_data['Predicted']=result\r\n",
        "result_data.head()\r\n",
        "\r\n",
        "\r\n",
        "# File 생성\r\n",
        "result_data.to_csv('/content/gdrive/My Drive/Colab Notebooks/competition_file/ko_result.csv', encoding='cp949,', sep=',', index = False)"
      ],
      "execution_count": null,
      "outputs": []
    }
  ]
}