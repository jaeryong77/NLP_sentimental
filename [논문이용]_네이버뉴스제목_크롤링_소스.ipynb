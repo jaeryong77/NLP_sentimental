{
  "nbformat": 4,
  "nbformat_minor": 0,
  "metadata": {
    "colab": {
      "name": "[논문이용] 네이버뉴스제목 크롤링 소스",
      "provenance": [],
      "collapsed_sections": [],
      "authorship_tag": "ABX9TyPprGpVb24CZCRj6gvWQvBl",
      "include_colab_link": true
    },
    "kernelspec": {
      "name": "python3",
      "display_name": "Python 3"
    },
    "language_info": {
      "name": "python"
    }
  },
  "cells": [
    {
      "cell_type": "markdown",
      "metadata": {
        "id": "view-in-github",
        "colab_type": "text"
      },
      "source": [
        "<a href=\"https://colab.research.google.com/github/jaeryong77/NLP_sentimental/blob/main/%5B%EB%85%BC%EB%AC%B8%EC%9D%B4%EC%9A%A9%5D_%EB%84%A4%EC%9D%B4%EB%B2%84%EB%89%B4%EC%8A%A4%EC%A0%9C%EB%AA%A9_%ED%81%AC%EB%A1%A4%EB%A7%81_%EC%86%8C%EC%8A%A4.ipynb\" target=\"_parent\"><img src=\"https://colab.research.google.com/assets/colab-badge.svg\" alt=\"Open In Colab\"/></a>"
      ]
    },
    {
      "cell_type": "code",
      "metadata": {
        "id": "dBY-R5XkJy_c"
      },
      "source": [
        "'''\n",
        "\n",
        "메인로직 참조 소스 , 언론사별 테그\n",
        ": https://everyday-tech.tistory.com/entry/3%ED%83%84-%EC%89%BD%EA%B2%8C-%EB%94%B0%EB%9D%BC%ED%95%98%EB%8A%94-%EB%84%A4%EC%9D%B4%EB%B2%84-%EB%89%B4%EC%8A%A4-%ED%81%AC%EB%A1%A4%EB%A7%81-%EB%B3%B8%EB%AC%B8-%EA%B0%80%EC%A0%B8%EC%98%A4%EA%B8%B0\n",
        "\n",
        "html find , bs.find 소스\n",
        "https://arehoow.tistory.com/9 \n",
        "\n",
        "내용정제를 위한 참고 소스\n",
        "https://bumcrush.tistory.com/116\n",
        "\n"
      ],
      "execution_count": null,
      "outputs": []
    },
    {
      "cell_type": "code",
      "metadata": {
        "colab": {
          "base_uri": "https://localhost:8080/"
        },
        "id": "x2ChsuMXHjy6",
        "outputId": "7919d168-a463-4849-e7f6-f1fd3568d485"
      },
      "source": [
        "\n",
        "\n",
        "#언론사 코드\n",
        "press_code ={'donga':'1020', 'kookmin':'1005', 'kyenhyang':'1032','joonang':'1025', 'hangeyre':'1028','chosun':'1023', 'moonhwa':'1021'}\n",
        "press_code.keys()\n",
        "for press in press_code.keys():\n",
        "  print(press_code.get(press))\n",
        "print(press_code.values())"
      ],
      "execution_count": null,
      "outputs": [
        {
          "output_type": "stream",
          "name": "stdout",
          "text": [
            "1020\n",
            "1005\n",
            "1032\n",
            "1025\n",
            "1028\n",
            "1023\n",
            "1021\n",
            "dict_values(['1020', '1005', '1032', '1025', '1028', '1023', '1021'])\n"
          ]
        }
      ]
    },
    {
      "cell_type": "code",
      "metadata": {
        "id": "2XiW03SQE9dR"
      },
      "source": [
        "import requests\n",
        "from bs4 import BeautifulSoup as bs\n",
        "import time\n",
        "import pandas as pd\n",
        "import re"
      ],
      "execution_count": null,
      "outputs": []
    },
    {
      "cell_type": "code",
      "metadata": {
        "id": "c6swYLWjGJPK",
        "colab": {
          "base_uri": "https://localhost:8080/"
        },
        "outputId": "23737a83-5435-479f-c866-bda3fa971a18"
      },
      "source": [
        "# 크롤링 입력조건 입력\n",
        "###################################\n",
        "# 여기서 부터 진짜 실행 코드 \n",
        "##################################\n",
        "print('크롤링 실행 입력조건\\n')\n",
        "keyword = str(input('keyword:'))\n",
        "sdate = str(input('s.date:'))\n",
        "edate = str(input('e.date:'))\n",
        "sdate1 = sdate[0:4]+'.'+sdate[4:6]+'.'+sdate[6:8]\n",
        "edate1 = edate[0:4]+'.'+edate[4:6]+'.'+edate[6:8]\n",
        "print('\\n\\n입력조건확인\\nkeyword : {} \\n sdate : {} \\n edate : {} \\n sdate1 : {} \\n edate1 : {} '.format(keyword,sdate,edate,sdate1,edate1))\n",
        "start = '1'\n",
        "\n",
        "#언론사 구분 없음\n",
        "# base_url = 'https://search.naver.com/search.naver?where=news&sm=tab_pge&query={}&sort=0&photo=0&field=0&pd=3&ds={}&de={}&cluster_rank=20&mynews=0&office_type=0&office_section_code=0&news_office_checked=&nso=so:r,p:from{}to{},a:all&start={}'\n",
        "#언론사별\n",
        "base_url = 'https://search.naver.com/search.naver?where=news&sm=tab_pge&query={}&sort=0&photo=0&field=0&pd=3&ds={}&de={}&cluster_rank=0&mynews=1&office_type=1&office_section_code=2&news_office_checked={}&nso=so:r,p:from{}to{},a:all&start={}'\n",
        "\n",
        "headers = {'user-agent':'Mozilla/5.0 (Windows NT 10.0; Win64; x64) AppleWebKit/537.36 (KHTML, like Gecko) Chrome/88.0.4324.150 Safari/537.36',\n",
        "          'accept':'text/html,application/xhtml+xml,application/xml;q=0.9,image/avif,image/webp,image/apng,*/*;q=0.8,application/signed-exchange;v=b3;q=0.9'}\n",
        "\n",
        "url = base_url.format(keyword,sdate,edate,'1020',sdate1,edate1,start)\n",
        "print(url)\n",
        "\n",
        "# 언론사 코드 = kbs 1056 , sbs 1055 , mbc = 1214\n"
      ],
      "execution_count": null,
      "outputs": [
        {
          "output_type": "stream",
          "name": "stdout",
          "text": [
            "크롤링 실행 입력조건\n",
            "\n",
            "keyword:코로나19\n",
            "s.date:20210801\n",
            "e.date:20210831\n",
            "\n",
            "\n",
            "입력조건확인\n",
            "keyword : 코로나19 \n",
            " sdate : 20210801 \n",
            " edate : 20210831 \n",
            " sdate1 : 2021.08.01 \n",
            " edate1 : 2021.08.31 \n",
            "https://search.naver.com/search.naver?where=news&sm=tab_pge&query=코로나19&sort=0&photo=0&field=0&pd=3&ds=20210801&de=20210831&cluster_rank=0&mynews=1&office_type=1&office_section_code=2&news_office_checked=1020&nso=so:r,p:from2021.08.01to2021.08.31,a:all&start=1\n"
          ]
        }
      ]
    },
    {
      "cell_type": "code",
      "metadata": {
        "id": "TbiBe9MQHMYk",
        "colab": {
          "base_uri": "https://localhost:8080/"
        },
        "outputId": "47dafa79-6782-4df3-e24d-4ec7892e3321"
      },
      "source": [
        "title_list = []\n",
        "url_list=[]\n",
        "tmp_url = {}\n",
        "\n",
        "for p_code in press_code.values() :\n",
        "  start = 1\n",
        "  title_list=[] \n",
        "  url_list=[]\n",
        "  date_list=[]\n",
        "  for i in range(1,5): # 10 -> 100개, 30 -> 300개\n",
        "    try :\n",
        "      url = base_url.format(keyword,sdate,edate,p_code,sdate1,edate1,start)\n",
        "      print(url)      \n",
        "      raw = requests.get(url, headers=headers)\n",
        "      soup = bs(raw.text, 'html.parser')  \n",
        "      news_title = [title['title'] for title in soup.find_all('a', attrs={'class':'news_tit'})]\n",
        "      news_url = [ url['href'] for url in soup.find_all('a', attrs={'class':'news_tit'}) ] # 기사 url\n",
        "      dates = [date.get_text() for date in soup.find_all('span', attrs={'class':'info'})]\n",
        "      news_dates = []\n",
        "      for date in dates:\n",
        "        if re.search(r'\\d+.\\d+.\\d+.', date) != None :\n",
        "          news_dates.append(date)\n",
        "      title_list = title_list+news_title\n",
        "      url_list = url_list + news_url\n",
        "      date_list = date_list+news_dates\n",
        "      start += 10\n",
        "    except :\n",
        "      print(\"stop됨\",start)\n",
        "      break\n",
        "# 언론사별 data frame 을 만든다 \n",
        "  # df_columns = ['title','url']\n",
        "  tmp_dic = {}\n",
        "  tmp_dic = {'title' : title_list, 'url': url_list, 'date': date_list}\n",
        "  globals()['df_{}'.format(p_code)] = pd.DataFrame(tmp_dic)\n",
        "  "
      ],
      "execution_count": null,
      "outputs": [
        {
          "output_type": "stream",
          "name": "stdout",
          "text": [
            "https://search.naver.com/search.naver?where=news&sm=tab_pge&query=코로나19&sort=0&photo=0&field=0&pd=3&ds=20210801&de=20210831&cluster_rank=0&mynews=1&office_type=1&office_section_code=2&news_office_checked=1020&nso=so:r,p:from2021.08.01to2021.08.31,a:all&start=1\n",
            "https://search.naver.com/search.naver?where=news&sm=tab_pge&query=코로나19&sort=0&photo=0&field=0&pd=3&ds=20210801&de=20210831&cluster_rank=0&mynews=1&office_type=1&office_section_code=2&news_office_checked=1020&nso=so:r,p:from2021.08.01to2021.08.31,a:all&start=11\n",
            "https://search.naver.com/search.naver?where=news&sm=tab_pge&query=코로나19&sort=0&photo=0&field=0&pd=3&ds=20210801&de=20210831&cluster_rank=0&mynews=1&office_type=1&office_section_code=2&news_office_checked=1020&nso=so:r,p:from2021.08.01to2021.08.31,a:all&start=21\n",
            "https://search.naver.com/search.naver?where=news&sm=tab_pge&query=코로나19&sort=0&photo=0&field=0&pd=3&ds=20210801&de=20210831&cluster_rank=0&mynews=1&office_type=1&office_section_code=2&news_office_checked=1020&nso=so:r,p:from2021.08.01to2021.08.31,a:all&start=31\n",
            "https://search.naver.com/search.naver?where=news&sm=tab_pge&query=코로나19&sort=0&photo=0&field=0&pd=3&ds=20210801&de=20210831&cluster_rank=0&mynews=1&office_type=1&office_section_code=2&news_office_checked=1005&nso=so:r,p:from2021.08.01to2021.08.31,a:all&start=1\n",
            "https://search.naver.com/search.naver?where=news&sm=tab_pge&query=코로나19&sort=0&photo=0&field=0&pd=3&ds=20210801&de=20210831&cluster_rank=0&mynews=1&office_type=1&office_section_code=2&news_office_checked=1005&nso=so:r,p:from2021.08.01to2021.08.31,a:all&start=11\n",
            "https://search.naver.com/search.naver?where=news&sm=tab_pge&query=코로나19&sort=0&photo=0&field=0&pd=3&ds=20210801&de=20210831&cluster_rank=0&mynews=1&office_type=1&office_section_code=2&news_office_checked=1005&nso=so:r,p:from2021.08.01to2021.08.31,a:all&start=21\n",
            "https://search.naver.com/search.naver?where=news&sm=tab_pge&query=코로나19&sort=0&photo=0&field=0&pd=3&ds=20210801&de=20210831&cluster_rank=0&mynews=1&office_type=1&office_section_code=2&news_office_checked=1005&nso=so:r,p:from2021.08.01to2021.08.31,a:all&start=31\n",
            "https://search.naver.com/search.naver?where=news&sm=tab_pge&query=코로나19&sort=0&photo=0&field=0&pd=3&ds=20210801&de=20210831&cluster_rank=0&mynews=1&office_type=1&office_section_code=2&news_office_checked=1032&nso=so:r,p:from2021.08.01to2021.08.31,a:all&start=1\n",
            "https://search.naver.com/search.naver?where=news&sm=tab_pge&query=코로나19&sort=0&photo=0&field=0&pd=3&ds=20210801&de=20210831&cluster_rank=0&mynews=1&office_type=1&office_section_code=2&news_office_checked=1032&nso=so:r,p:from2021.08.01to2021.08.31,a:all&start=11\n",
            "https://search.naver.com/search.naver?where=news&sm=tab_pge&query=코로나19&sort=0&photo=0&field=0&pd=3&ds=20210801&de=20210831&cluster_rank=0&mynews=1&office_type=1&office_section_code=2&news_office_checked=1032&nso=so:r,p:from2021.08.01to2021.08.31,a:all&start=21\n",
            "https://search.naver.com/search.naver?where=news&sm=tab_pge&query=코로나19&sort=0&photo=0&field=0&pd=3&ds=20210801&de=20210831&cluster_rank=0&mynews=1&office_type=1&office_section_code=2&news_office_checked=1032&nso=so:r,p:from2021.08.01to2021.08.31,a:all&start=31\n",
            "https://search.naver.com/search.naver?where=news&sm=tab_pge&query=코로나19&sort=0&photo=0&field=0&pd=3&ds=20210801&de=20210831&cluster_rank=0&mynews=1&office_type=1&office_section_code=2&news_office_checked=1025&nso=so:r,p:from2021.08.01to2021.08.31,a:all&start=1\n",
            "https://search.naver.com/search.naver?where=news&sm=tab_pge&query=코로나19&sort=0&photo=0&field=0&pd=3&ds=20210801&de=20210831&cluster_rank=0&mynews=1&office_type=1&office_section_code=2&news_office_checked=1025&nso=so:r,p:from2021.08.01to2021.08.31,a:all&start=11\n",
            "https://search.naver.com/search.naver?where=news&sm=tab_pge&query=코로나19&sort=0&photo=0&field=0&pd=3&ds=20210801&de=20210831&cluster_rank=0&mynews=1&office_type=1&office_section_code=2&news_office_checked=1025&nso=so:r,p:from2021.08.01to2021.08.31,a:all&start=21\n",
            "https://search.naver.com/search.naver?where=news&sm=tab_pge&query=코로나19&sort=0&photo=0&field=0&pd=3&ds=20210801&de=20210831&cluster_rank=0&mynews=1&office_type=1&office_section_code=2&news_office_checked=1025&nso=so:r,p:from2021.08.01to2021.08.31,a:all&start=31\n",
            "https://search.naver.com/search.naver?where=news&sm=tab_pge&query=코로나19&sort=0&photo=0&field=0&pd=3&ds=20210801&de=20210831&cluster_rank=0&mynews=1&office_type=1&office_section_code=2&news_office_checked=1028&nso=so:r,p:from2021.08.01to2021.08.31,a:all&start=1\n",
            "https://search.naver.com/search.naver?where=news&sm=tab_pge&query=코로나19&sort=0&photo=0&field=0&pd=3&ds=20210801&de=20210831&cluster_rank=0&mynews=1&office_type=1&office_section_code=2&news_office_checked=1028&nso=so:r,p:from2021.08.01to2021.08.31,a:all&start=11\n",
            "https://search.naver.com/search.naver?where=news&sm=tab_pge&query=코로나19&sort=0&photo=0&field=0&pd=3&ds=20210801&de=20210831&cluster_rank=0&mynews=1&office_type=1&office_section_code=2&news_office_checked=1028&nso=so:r,p:from2021.08.01to2021.08.31,a:all&start=21\n",
            "https://search.naver.com/search.naver?where=news&sm=tab_pge&query=코로나19&sort=0&photo=0&field=0&pd=3&ds=20210801&de=20210831&cluster_rank=0&mynews=1&office_type=1&office_section_code=2&news_office_checked=1028&nso=so:r,p:from2021.08.01to2021.08.31,a:all&start=31\n",
            "https://search.naver.com/search.naver?where=news&sm=tab_pge&query=코로나19&sort=0&photo=0&field=0&pd=3&ds=20210801&de=20210831&cluster_rank=0&mynews=1&office_type=1&office_section_code=2&news_office_checked=1023&nso=so:r,p:from2021.08.01to2021.08.31,a:all&start=1\n",
            "https://search.naver.com/search.naver?where=news&sm=tab_pge&query=코로나19&sort=0&photo=0&field=0&pd=3&ds=20210801&de=20210831&cluster_rank=0&mynews=1&office_type=1&office_section_code=2&news_office_checked=1023&nso=so:r,p:from2021.08.01to2021.08.31,a:all&start=11\n",
            "https://search.naver.com/search.naver?where=news&sm=tab_pge&query=코로나19&sort=0&photo=0&field=0&pd=3&ds=20210801&de=20210831&cluster_rank=0&mynews=1&office_type=1&office_section_code=2&news_office_checked=1023&nso=so:r,p:from2021.08.01to2021.08.31,a:all&start=21\n",
            "https://search.naver.com/search.naver?where=news&sm=tab_pge&query=코로나19&sort=0&photo=0&field=0&pd=3&ds=20210801&de=20210831&cluster_rank=0&mynews=1&office_type=1&office_section_code=2&news_office_checked=1023&nso=so:r,p:from2021.08.01to2021.08.31,a:all&start=31\n",
            "https://search.naver.com/search.naver?where=news&sm=tab_pge&query=코로나19&sort=0&photo=0&field=0&pd=3&ds=20210801&de=20210831&cluster_rank=0&mynews=1&office_type=1&office_section_code=2&news_office_checked=1021&nso=so:r,p:from2021.08.01to2021.08.31,a:all&start=1\n",
            "https://search.naver.com/search.naver?where=news&sm=tab_pge&query=코로나19&sort=0&photo=0&field=0&pd=3&ds=20210801&de=20210831&cluster_rank=0&mynews=1&office_type=1&office_section_code=2&news_office_checked=1021&nso=so:r,p:from2021.08.01to2021.08.31,a:all&start=11\n",
            "https://search.naver.com/search.naver?where=news&sm=tab_pge&query=코로나19&sort=0&photo=0&field=0&pd=3&ds=20210801&de=20210831&cluster_rank=0&mynews=1&office_type=1&office_section_code=2&news_office_checked=1021&nso=so:r,p:from2021.08.01to2021.08.31,a:all&start=21\n",
            "https://search.naver.com/search.naver?where=news&sm=tab_pge&query=코로나19&sort=0&photo=0&field=0&pd=3&ds=20210801&de=20210831&cluster_rank=0&mynews=1&office_type=1&office_section_code=2&news_office_checked=1021&nso=so:r,p:from2021.08.01to2021.08.31,a:all&start=31\n"
          ]
        }
      ]
    },
    {
      "cell_type": "code",
      "metadata": {
        "colab": {
          "base_uri": "https://localhost:8080/"
        },
        "id": "ijrU7S8JDTI-",
        "outputId": "0a2b9a93-b2b1-405b-8105-0e03b27e0fa9"
      },
      "source": [
        "df_1021.count()"
      ],
      "execution_count": null,
      "outputs": [
        {
          "output_type": "execute_result",
          "data": {
            "text/plain": [
              "title    40\n",
              "url      40\n",
              "date     40\n",
              "dtype: int64"
            ]
          },
          "metadata": {},
          "execution_count": 25
        }
      ]
    },
    {
      "cell_type": "code",
      "metadata": {
        "id": "_JTdo2mLjuvE"
      },
      "source": [
        "# #언론사 코드\n",
        "# press_code ={'donga':'1020', 'kookmin':'1005', 'kyenhyang':'1032','joonang':'1025', 'hangeyre':'1028','chosun':'1023', 'moonhwa':'1021'}\n",
        "# press_code.keys()\n",
        "# 엑셀 만들기\n",
        "\n",
        "filenm = 'df_1020_'+sdate[0:6]+'.xlsx'\n",
        "df_1020.to_excel(filenm)\n",
        "\n",
        "filenm = 'df_1005_'+sdate[0:6]+'.xlsx'\n",
        "df_1005.to_excel(filenm)\n",
        "\n",
        "filenm = 'df_1032_'+sdate[0:6]+'.xlsx'\n",
        "df_1032.to_excel(filenm)\n",
        "\n",
        "filenm = 'df_1025_'+sdate[0:6]+'.xlsx'\n",
        "df_1025.to_excel(filenm)\n",
        "\n",
        "filenm = 'df_1028_'+sdate[0:6]+'.xlsx'\n",
        "df_1028.to_excel(filenm)\n",
        "\n",
        "filenm = 'df_1023_'+sdate[0:6]+'.xlsx'\n",
        "df_1023.to_excel(filenm)\n",
        "\n",
        "filenm = 'df_1021_'+sdate[0:6]+'.xlsx'\n",
        "df_1021.to_excel(filenm)"
      ],
      "execution_count": null,
      "outputs": []
    },
    {
      "cell_type": "code",
      "metadata": {
        "colab": {
          "base_uri": "https://localhost:8080/"
        },
        "id": "Q7KAamJcWBzr",
        "outputId": "9358ff07-dc79-49c7-ec6a-bfe487e381d9"
      },
      "source": [
        "df_1020.count()"
      ],
      "execution_count": null,
      "outputs": [
        {
          "output_type": "execute_result",
          "data": {
            "text/plain": [
              "title    466\n",
              "url      466\n",
              "dtype: int64"
            ]
          },
          "metadata": {},
          "execution_count": 45
        }
      ]
    },
    {
      "cell_type": "code",
      "metadata": {
        "id": "fmvGSPALh2dz"
      },
      "source": [
        "################################################################################################333\n",
        "# 이후는 이전 프로그램임 \n",
        "##################################################################################################"
      ],
      "execution_count": null,
      "outputs": []
    },
    {
      "cell_type": "code",
      "metadata": {
        "id": "KQn_mSzzWnYP"
      },
      "source": [
        "# 크롤링 펑션\n",
        "def crawling_main_text(url):\n",
        "\n",
        "    req = requests.get(url)\n",
        "    req.encoding = None\n",
        "    soup = bs(req.text, 'html.parser')\n",
        "    result = [] # 0 = text , 1 = 날자\n",
        "\n",
        "    # 연합뉴스\n",
        "    if ('://yna' in url) | ('app.yonhapnews' in url): \n",
        "        main_article = soup.find('div', {'class':'story-news article'})\n",
        "        if main_article == None:\n",
        "            main_article = soup.find('div', {'class' : 'article-txt'})\n",
        "        \n",
        "        text = main_article.text\n",
        "        \n",
        "    # MBC \n",
        "    elif '//imnews.imbc' in url: \n",
        "        # text = soup.find('div', {'itemprop' : 'articleBody'}).text\n",
        "        result.append(soup.find('div', {'itemprop' : 'articleBody'}).text)\n",
        "\n",
        "    # 매일경제(미라클), req.encoding = None 설정 필요\n",
        "    elif 'mirakle.mk' in url:\n",
        "        text = soup.find('div', {'class' : 'view_txt'}).text\n",
        "        \n",
        "    # 매일경제, req.encoding = None 설정 필요\n",
        "    elif 'mk.co' in url:\n",
        "        text = soup.find('div', {'class' : 'art_txt'}).text\n",
        "        \n",
        "    # SBS\n",
        "    elif 'news.sbs' in url:\n",
        "        # text = soup.find('div', {'itemprop' : 'articleBody'}).text\n",
        "        result.append(soup.find('div', {'itemprop' : 'articleBody'}).text)\n",
        "        date = soup.find('span',{'class':'date'})\n",
        "        result.append(date.find('span').text)\n",
        "    # KBS\n",
        "    elif 'news.kbs' in url:\n",
        "        # text = soup.find('div', {'id' : 'cont_newstext'}).text\n",
        "        result.append(soup.find('div', {'id' : 'cont_newstext'}).text)\n",
        "        date = date = soup.find('span',{'class':'txt-info'}  ) #날자 \n",
        "        result.append(date.find('em', {'class': 'date'}).text)\n",
        "\n",
        "    # JTBC\n",
        "    elif 'news.jtbc' in url:\n",
        "        text = soup.find('div', {'class' : 'article_content'}).text\n",
        "        \n",
        "    # 그 외\n",
        "    else:\n",
        "        #  text = None\n",
        "        result = []   \n",
        "    # if text != None :    \n",
        "    if len(result) != 0:\n",
        "      # return text.replace('\\n','').replace('\\r','').replace('<br>','').replace('\\t','')\n",
        "      if result[0] is not None :\n",
        "        result[0].replace('\\n','').replace('\\r','').replace('<br>','').replace('\\t','')      \n",
        "      return result"
      ],
      "execution_count": null,
      "outputs": []
    },
    {
      "cell_type": "code",
      "metadata": {
        "id": "LmoYbjmiG44J"
      },
      "source": [
        "# ulr_list 에 각언론사별 100건씩 url 리스트가  들어온다. \n",
        "\n",
        "#최종 저장소\n",
        "\n",
        "idx = 1\n",
        "news_dict = {}\n",
        "crawling_result =[] #+\n",
        "for url_item in url_list:\n",
        "  crawling_result = crawling_main_text(url_item)   #+\n",
        "  # news_dict[idx] = { 'url' : url_item,\n",
        "  #                   'text' : crawling_main_text(url_item) }\n",
        "  news_dict[idx] = { 'url' : url_item,\n",
        "                    'text' : crawling_result[0],\n",
        "                    'date' : crawling_result[1]}\n",
        "\n",
        "\n",
        "  idx += 1\n",
        "\n",
        "news_df = pd.DataFrame(news_dict).T\n",
        "news_df.to_excel(\"naver_news.xlsx\")\n",
        "\n",
        "\n"
      ],
      "execution_count": null,
      "outputs": []
    },
    {
      "cell_type": "code",
      "metadata": {
        "id": "SvR6SuE-mA4N"
      },
      "source": [
        "#300 개 저장하는데 5분 30초 걸림\n"
      ],
      "execution_count": null,
      "outputs": []
    },
    {
      "cell_type": "code",
      "metadata": {
        "id": "gJpELXAueEib"
      },
      "source": [
        "    req = requests.get('https://news.kbs.co.kr/news/view.do?ncd=5152826&ref=A')\n",
        "    req.encoding = None\n",
        "    soup = bs(req.text, 'html.parser')\n",
        "\n",
        "    text = soup.find('div', {'id' : 'cont_newstext'}).text\n",
        "    date = soup.find('span',{'class':'txt-info'})\n",
        "    input_date = date.find('em', {'class': 'date'}).text\n",
        "\n",
        "\n",
        "    # import re\n",
        "    # input_date = re.search(r'\\d+.\\d+.\\d+', date)\n",
        "    \n"
      ],
      "execution_count": null,
      "outputs": []
    },
    {
      "cell_type": "code",
      "metadata": {
        "colab": {
          "base_uri": "https://localhost:8080/",
          "height": 35
        },
        "id": "oGghKX0aeL5J",
        "outputId": "c63c536b-455e-4f29-dd9e-1d150e84fa1a"
      },
      "source": [
        "input_date"
      ],
      "execution_count": null,
      "outputs": [
        {
          "output_type": "execute_result",
          "data": {
            "application/vnd.google.colaboratory.intrinsic+json": {
              "type": "string"
            },
            "text/plain": [
              "'입력 2021.04.01 (12:46)'"
            ]
          },
          "metadata": {},
          "execution_count": 81
        }
      ]
    },
    {
      "cell_type": "code",
      "metadata": {
        "colab": {
          "base_uri": "https://localhost:8080/"
        },
        "id": "sDmLeK9MeNXT",
        "outputId": "d6baf840-e880-48c0-e8a7-3097daf0e903"
      },
      "source": [
        "    req = requests.get('https://news.sbs.co.kr/news/endPage.do?news_id=N1006264727&plink=ORI&cooper=NAVER')\n",
        "    req.encoding = None\n",
        "    soup = bs(req.text, 'html.parser')\n",
        "\n",
        "    date = soup.find('span',{'class':'date'})\n",
        "    date1 = date.find('span')\n",
        "    print(date1)"
      ],
      "execution_count": null,
      "outputs": [
        {
          "output_type": "stream",
          "text": [
            "<span>2021.04.01 17:33</span>\n"
          ],
          "name": "stdout"
        }
      ]
    },
    {
      "cell_type": "code",
      "metadata": {
        "colab": {
          "base_uri": "https://localhost:8080/"
        },
        "id": "ZhS-RbcRiuVs",
        "outputId": "912abd5f-ed4b-466c-950d-b93df6b02f69"
      },
      "source": [
        "x = None\n",
        "print(type(x))\n",
        "if x is not None:\n",
        "  print('T')"
      ],
      "execution_count": null,
      "outputs": [
        {
          "output_type": "stream",
          "text": [
            "<class 'NoneType'>\n"
          ],
          "name": "stdout"
        }
      ]
    },
    {
      "cell_type": "code",
      "metadata": {
        "id": "DC9zcQE0m8b8"
      },
      "source": [
        "test = {'title' : [], 'text' : []}\n"
      ],
      "execution_count": null,
      "outputs": []
    },
    {
      "cell_type": "code",
      "metadata": {
        "colab": {
          "base_uri": "https://localhost:8080/"
        },
        "id": "gAPgVYNHtgID",
        "outputId": "f3d9399f-f89c-47be-a6d9-293227bc68db"
      },
      "source": [
        "test['title'] = ['1','2']\n",
        "test"
      ],
      "execution_count": null,
      "outputs": [
        {
          "output_type": "execute_result",
          "data": {
            "text/plain": [
              "{'text': [], 'title': ['1', '2']}"
            ]
          },
          "metadata": {},
          "execution_count": 113
        }
      ]
    },
    {
      "cell_type": "code",
      "metadata": {
        "colab": {
          "base_uri": "https://localhost:8080/"
        },
        "id": "IwSEyiVdtwA6",
        "outputId": "37d2387f-d183-4fa0-b01e-98cb009f547d"
      },
      "source": [
        "print(type(test['title']))"
      ],
      "execution_count": null,
      "outputs": [
        {
          "output_type": "stream",
          "text": [
            "<class 'list'>\n"
          ],
          "name": "stdout"
        }
      ]
    },
    {
      "cell_type": "code",
      "metadata": {
        "id": "9ygOg-Hqt5Bi"
      },
      "source": [
        ""
      ],
      "execution_count": null,
      "outputs": []
    }
  ]
}